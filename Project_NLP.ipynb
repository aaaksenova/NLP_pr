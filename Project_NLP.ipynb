{
  "nbformat": 4,
  "nbformat_minor": 0,
  "metadata": {
    "kernelspec": {
      "display_name": "Python 3",
      "language": "python",
      "name": "python3"
    },
    "language_info": {
      "codemirror_mode": {
        "name": "ipython",
        "version": 3
      },
      "file_extension": ".py",
      "mimetype": "text/x-python",
      "name": "python",
      "nbconvert_exporter": "python",
      "pygments_lexer": "ipython3",
      "version": "3.6.8"
    },
    "colab": {
      "name": "Project NLP.ipynb",
      "provenance": [],
      "collapsed_sections": [],
      "toc_visible": true
    }
  },
  "cells": [
    {
      "cell_type": "markdown",
      "metadata": {
        "id": "K4yRUh0RcJN3"
      },
      "source": [
        "# Корпус текстов о странах из русской Википедии"
      ]
    },
    {
      "cell_type": "markdown",
      "metadata": {
        "id": "WEqhHWILcJN6"
      },
      "source": [
        "### Выполнили: \n",
        "\n",
        " - Аксенова Анна\n",
        "\n",
        " - Волошина Екатерина\n",
        "\n",
        " - Кудрявцева Полина\n",
        "\n",
        " - Такташева Екатерина"
      ]
    },
    {
      "cell_type": "markdown",
      "metadata": {
        "id": "h6Xf8e4YcJOA"
      },
      "source": [
        "### Запустим наш корпус и выполним несколько запросов"
      ]
    },
    {
      "cell_type": "code",
      "metadata": {
        "id": "Vj7Twvo9cQPq",
        "outputId": "8b9b098f-e23f-4b6f-d7bd-ca1eab132e6e",
        "colab": {
          "base_uri": "https://localhost:8080/",
          "height": 326
        }
      },
      "source": [
        "!wget -O \"corpora_data.csv\" \"https://docs.google.com/uc?export=download&id=1U0EmC9E782eQfzmR9slB5-_b5dsvFhuC\""
      ],
      "execution_count": null,
      "outputs": [
        {
          "output_type": "stream",
          "text": [
            "--2020-10-22 17:52:52--  https://docs.google.com/uc?export=download&id=1U0EmC9E782eQfzmR9slB5-_b5dsvFhuC\n",
            "Resolving docs.google.com (docs.google.com)... 74.125.26.113, 74.125.26.101, 74.125.26.139, ...\n",
            "Connecting to docs.google.com (docs.google.com)|74.125.26.113|:443... connected.\n",
            "HTTP request sent, awaiting response... 302 Moved Temporarily\n",
            "Location: https://doc-04-4g-docs.googleusercontent.com/docs/securesc/ha0ro937gcuc7l7deffksulhg5h7mbp1/3vv20crhuif4a0hmqtbjjesics1j0sfn/1603389150000/13218383390176395157/*/1U0EmC9E782eQfzmR9slB5-_b5dsvFhuC?e=download [following]\n",
            "Warning: wildcards not supported in HTTP.\n",
            "--2020-10-22 17:52:53--  https://doc-04-4g-docs.googleusercontent.com/docs/securesc/ha0ro937gcuc7l7deffksulhg5h7mbp1/3vv20crhuif4a0hmqtbjjesics1j0sfn/1603389150000/13218383390176395157/*/1U0EmC9E782eQfzmR9slB5-_b5dsvFhuC?e=download\n",
            "Resolving doc-04-4g-docs.googleusercontent.com (doc-04-4g-docs.googleusercontent.com)... 172.217.193.132, 2607:f8b0:400c:c03::84\n",
            "Connecting to doc-04-4g-docs.googleusercontent.com (doc-04-4g-docs.googleusercontent.com)|172.217.193.132|:443... connected.\n",
            "HTTP request sent, awaiting response... 200 OK\n",
            "Length: unspecified [text/csv]\n",
            "Saving to: ‘corpora_data.csv’\n",
            "\n",
            "corpora_data.csv        [  <=>               ]  33.64M   104MB/s    in 0.3s    \n",
            "\n",
            "2020-10-22 17:52:54 (104 MB/s) - ‘corpora_data.csv’ saved [35270641]\n",
            "\n"
          ],
          "name": "stdout"
        }
      ]
    },
    {
      "cell_type": "code",
      "metadata": {
        "id": "JEtORbYjcJOV"
      },
      "source": [
        "# Запустим файл с классом Corpus\n",
        "%run corpus.py"
      ],
      "execution_count": 38,
      "outputs": []
    },
    {
      "cell_type": "code",
      "metadata": {
        "id": "heztUZC-cJOr"
      },
      "source": [
        "import pandas as pd\n",
        "import numpy as np\n",
        "import os\n",
        "\n",
        "data = pd.read_csv('corpora_data.csv', delimiter='\\t', encoding='utf-8')"
      ],
      "execution_count": 19,
      "outputs": []
    },
    {
      "cell_type": "code",
      "metadata": {
        "id": "4cKV7cI11R-k",
        "outputId": "d1c0f74b-78cc-4fb0-ec47-09ffe25fc330",
        "colab": {
          "base_uri": "https://localhost:8080/",
          "height": 598
        }
      },
      "source": [
        "data.head()"
      ],
      "execution_count": 22,
      "outputs": [
        {
          "output_type": "execute_result",
          "data": {
            "text/html": [
              "<div>\n",
              "<style scoped>\n",
              "    .dataframe tbody tr th:only-of-type {\n",
              "        vertical-align: middle;\n",
              "    }\n",
              "\n",
              "    .dataframe tbody tr th {\n",
              "        vertical-align: top;\n",
              "    }\n",
              "\n",
              "    .dataframe thead th {\n",
              "        text-align: right;\n",
              "    }\n",
              "</style>\n",
              "<table border=\"1\" class=\"dataframe\">\n",
              "  <thead>\n",
              "    <tr style=\"text-align: right;\">\n",
              "      <th></th>\n",
              "      <th>Unnamed: 0</th>\n",
              "      <th>source</th>\n",
              "      <th>title</th>\n",
              "      <th>sentence</th>\n",
              "      <th>tokenized</th>\n",
              "      <th>lemmatized</th>\n",
              "      <th>pos</th>\n",
              "    </tr>\n",
              "  </thead>\n",
              "  <tbody>\n",
              "    <tr>\n",
              "      <th>0</th>\n",
              "      <td>0</td>\n",
              "      <td>https://ru.wikipedia.org/wiki/%D0%9C%D0%B0%D1%...</td>\n",
              "      <td>Материальная точка</td>\n",
              "      <td>Материальная точка (частица)  — обладающее мас...</td>\n",
              "      <td>Материальная точка частица — обладающее массой...</td>\n",
              "      <td>материальный точка частица — обладать масса те...</td>\n",
              "      <td>ADJ NOUN NOUN UNK PTCP NOUN NOUN NOUN NOUN NOU...</td>\n",
              "    </tr>\n",
              "    <tr>\n",
              "      <th>1</th>\n",
              "      <td>1</td>\n",
              "      <td>https://ru.wikipedia.org/wiki/%D0%9C%D0%B0%D1%...</td>\n",
              "      <td>Материальная точка</td>\n",
              "      <td>Является простейшей физической моделью в механ...</td>\n",
              "      <td>Является простейшей физической моделью в механике</td>\n",
              "      <td>являться простой физический модель в|в механик...</td>\n",
              "      <td>VERB ADJ ADJ NOUN NOUN|PREP NOUN|NOUN</td>\n",
              "    </tr>\n",
              "    <tr>\n",
              "      <th>2</th>\n",
              "      <td>2</td>\n",
              "      <td>https://ru.wikipedia.org/wiki/%D0%9C%D0%B0%D1%...</td>\n",
              "      <td>Материальная точка</td>\n",
              "      <td>Положение материальной точки в пространстве оп...</td>\n",
              "      <td>Положение материальной точки в пространстве оп...</td>\n",
              "      <td>положение материальный точка в|в пространство ...</td>\n",
              "      <td>NOUN ADJ NOUN NOUN|PREP NOUN VERB PART|CONJ|AD...</td>\n",
              "    </tr>\n",
              "    <tr>\n",
              "      <th>3</th>\n",
              "      <td>3</td>\n",
              "      <td>https://ru.wikipedia.org/wiki/%D0%9C%D0%B0%D1%...</td>\n",
              "      <td>Материальная точка</td>\n",
              "      <td>В классической механике масса материальной точ...</td>\n",
              "      <td>В классической механике масса материальной точ...</td>\n",
              "      <td>в|в классический механика|механик масса матери...</td>\n",
              "      <td>NOUN|PREP ADJ NOUN|NOUN NOUN ADJ NOUN VERB ADJ...</td>\n",
              "    </tr>\n",
              "    <tr>\n",
              "      <th>4</th>\n",
              "      <td>4</td>\n",
              "      <td>https://ru.wikipedia.org/wiki/%D0%9C%D0%B0%D1%...</td>\n",
              "      <td>Материальная точка</td>\n",
              "      <td>Материальная точка — геометрическая точка, кот...</td>\n",
              "      <td>Материальная точка — геометрическая точка кото...</td>\n",
              "      <td>материальный точка — геометрический точка кото...</td>\n",
              "      <td>ADJ NOUN UNK ADJ NOUN ADJ PTCP NOUN|PREP NOUN ...</td>\n",
              "    </tr>\n",
              "  </tbody>\n",
              "</table>\n",
              "</div>"
            ],
            "text/plain": [
              "   Unnamed: 0  ...                                                pos\n",
              "0           0  ...  ADJ NOUN NOUN UNK PTCP NOUN NOUN NOUN NOUN NOU...\n",
              "1           1  ...              VERB ADJ ADJ NOUN NOUN|PREP NOUN|NOUN\n",
              "2           2  ...  NOUN ADJ NOUN NOUN|PREP NOUN VERB PART|CONJ|AD...\n",
              "3           3  ...  NOUN|PREP ADJ NOUN|NOUN NOUN ADJ NOUN VERB ADJ...\n",
              "4           4  ...  ADJ NOUN UNK ADJ NOUN ADJ PTCP NOUN|PREP NOUN ...\n",
              "\n",
              "[5 rows x 7 columns]"
            ]
          },
          "metadata": {
            "tags": []
          },
          "execution_count": 22
        }
      ]
    },
    {
      "cell_type": "code",
      "metadata": {
        "id": "0SWY24v0cJO0"
      },
      "source": [
        "corpus = Corpus(data)"
      ],
      "execution_count": 39,
      "outputs": []
    },
    {
      "cell_type": "markdown",
      "metadata": {
        "id": "Xr1OOfDacJPB"
      },
      "source": [
        "Поиск оформлен в класс <code>Corpus</code>. Поиск осуществляется при помощи метода <code>Corpus.search()</code>.\n",
        "\n",
        "Всего в классе есть 5 видов поиска:\n",
        "- <code>Corpus.simple_search('pattern')</code> или <code>Corpus.search('\"pattern\"')</code> - поиск по точному вхождению \n",
        "- <code>Corpus.morph_search('word+POS')</code> или <code>Corpus.search('word+POS')</code> - ищет все вхождения слова *word* с частью речи *POS* \n",
        "- <code>Corpus.form_search('word')</code> или <code>Corpus.search('word')</code> - ищет вхождение слова *word* в любой из форм\n",
        "- <code>Corpus.pos_search('POS')</code> или <code>Corpus.search('POS')</code> - поиск по частям речи \n",
        "- <code>Corpus.adv_search('POS word')</code> или <code>Corpus.search('POS word')</code> - находит все предложения, где встречается сочетание *POS* + *word* в любой форме (также поддерживает униграммы, биграммы и триграммы)"
      ]
    },
    {
      "cell_type": "markdown",
      "metadata": {
        "id": "ybt4TaTKcJPC"
      },
      "source": [
        "**Мы использовали следующие теги для разметки частей речи:**\n",
        "\n",
        "- *'NOUN'* : имя существительное\n",
        "- *'ADJ'* : имя прилагательное\n",
        "- *'COMP'* : форма сравнительной степени (прилагательного или наречия)\n",
        "- *'VERB'* : финитные формы глагола, инфинитив, предикатив, герундий\n",
        "- *'NUM'* : числительное\n",
        "- *'PREP'* : предлог\n",
        "- *'PTCP'* : причастие\n",
        "- *'CONJ'* : союз\n",
        "- *'ADV'* : наречия и местоименные наречия\n",
        "- *'INTJ'* : междометие\n",
        "- *'PART'* : частица\n",
        "- *'PRON'* : местоимение"
      ]
    },
    {
      "cell_type": "markdown",
      "metadata": {
        "id": "AkOXnSBYcJPE"
      },
      "source": [
        "**Проверим работу каждого из них:**"
      ]
    },
    {
      "cell_type": "markdown",
      "metadata": {
        "id": "UkOETCj2cJPG"
      },
      "source": [
        "1. <code>Corpus.adv_search('pattern')</code>"
      ]
    },
    {
      "cell_type": "code",
      "metadata": {
        "id": "NhjSH2pNcJPI",
        "outputId": "df721362-7670-4487-d6a2-4919b8de0a17",
        "colab": {
          "base_uri": "https://localhost:8080/",
          "height": 224
        }
      },
      "source": [
        "corpus.search('\"является\" федеративный NOUN')"
      ],
      "execution_count": 36,
      "outputs": [
        {
          "output_type": "stream",
          "text": [
            "Поиск по запросу: \"является\" федеративный NOUN\n",
            "\n",
            "\n",
            "РЕЗУЛЬТАТЫ (2/2):\n",
            "\n",
            "Источник: Субъекты Российской Федерации (https://ru.wikipedia.org/wiki/%D0%A1%D1%83%D0%B1%D1%8A%D0%B5%D0%BA%D1%82%D1%8B%20%D0%A0%D0%BE%D1%81%D1%81%D0%B8%D0%B9%D1%81%D0%BA%D0%BE%D0%B9%20%D0%A4%D0%B5%D0%B4%D0%B5%D1%80%D0%B0%D1%86%D0%B8%D0%B8)\n",
            "Согласно Конституции России, Российская Федерация \u001b[0;34;47mявляется\u001b[0m \u001b[0;34;47mфедеративным\u001b[0m \u001b[0;34;47mгосударством\u001b[0m и состоит из 85 равноправных субъектов — республик, краёв, областей, городов федерального значения, автономных округов и автономной области.\n",
            "\n",
            "Источник: Австрия (https://ru.wikipedia.org/wiki/%D0%90%D0%B2%D1%81%D1%82%D1%80%D0%B8%D1%8F)\n",
            "Австрия \u001b[0;34;47mявляется\u001b[0m \u001b[0;34;47mфедеративным\u001b[0m \u001b[0;34;47mгосударством\u001b[0m, объединяющим девять самостоятельных земель.\n",
            "\n"
          ],
          "name": "stdout"
        }
      ]
    },
    {
      "cell_type": "markdown",
      "metadata": {
        "id": "tgTq-GfUcJPR"
      },
      "source": [
        "2. <code>Corpus.morph_search('word+POS')</code>"
      ]
    },
    {
      "cell_type": "code",
      "metadata": {
        "id": "qvECUFjXcJPT",
        "outputId": "01d52380-a95d-462d-84fe-8b20ec2aa50c",
        "colab": {
          "base_uri": "https://localhost:8080/",
          "height": 649
        }
      },
      "source": [
        "corpus.search('огонь+NOUN')"
      ],
      "execution_count": 40,
      "outputs": [
        {
          "output_type": "stream",
          "text": [
            "Поиск по запросу: огонь+NOUN\n",
            "\n",
            "\n",
            "РЕЗУЛЬТАТЫ (10/69):\n",
            "\n",
            "Источник: Анаксагор (https://ru.wikipedia.org/wiki/%D0%90%D0%BD%D0%B0%D0%BA%D1%81%D0%B0%D0%B3%D0%BE%D1%80)\n",
            "В противоположность милетцам, для объяснения бесконечного разнообразия видимых явлений, он принимал не одну первичную стихию, вроде воды, воздуха или \u001b[0;34;47mогня\u001b[0m, а бесчисленное множество бесконечно малых первичных материальных частичек, гомеомерий (однородных частичек), которые не созданы и не могут ни разрушаться, ни переходить друг в друга.\n",
            "\n",
            "Источник: Шеллинг, Фридрих Вильгельм Йозеф (https://ru.wikipedia.org/wiki/%D0%A8%D0%B5%D0%BB%D0%BB%D0%B8%D0%BD%D0%B3%2C%20%D0%A4%D1%80%D0%B8%D0%B4%D1%80%D0%B8%D1%85%20%D0%92%D0%B8%D0%BB%D1%8C%D0%B3%D0%B5%D0%BB%D1%8C%D0%BC%20%D0%99%D0%BE%D0%B7%D0%B5%D1%84)\n",
            "В этом самоотречении, как в \u001b[0;34;47mогне\u001b[0m, должна очиститься человеческая воля, чтобы стать причастной универсальной воле.\n",
            "\n",
            "Источник: Петропавловская крепость (https://ru.wikipedia.org/wiki/%D0%9F%D0%B5%D1%82%D1%80%D0%BE%D0%BF%D0%B0%D0%B2%D0%BB%D0%BE%D0%B2%D1%81%D0%BA%D0%B0%D1%8F%20%D0%BA%D1%80%D0%B5%D0%BF%D0%BE%D1%81%D1%82%D1%8C)\n",
            "Интенсивность орудийного \u001b[0;34;47mогня\u001b[0m земляной крепости обеспечивали дополнительные пониженные фланки бастионов.\n",
            "\n",
            "Источник: Петропавловская крепость (https://ru.wikipedia.org/wiki/%D0%9F%D0%B5%D1%82%D1%80%D0%BE%D0%BF%D0%B0%D0%B2%D0%BB%D0%BE%D0%B2%D1%81%D0%BA%D0%B0%D1%8F%20%D0%BA%D1%80%D0%B5%D0%BF%D0%BE%D1%81%D1%82%D1%8C)\n",
            "В 1730—1740-х годах началось возведение кирпичных равелинов, прикрывавших куртины с крепостными воротами и ближайшие бастионы от артиллерийского \u001b[0;34;47mогня\u001b[0m.\n",
            "\n",
            "Источник: Петропавловская крепость (https://ru.wikipedia.org/wiki/%D0%9F%D0%B5%D1%82%D1%80%D0%BE%D0%BF%D0%B0%D0%B2%D0%BB%D0%BE%D0%B2%D1%81%D0%BA%D0%B0%D1%8F%20%D0%BA%D1%80%D0%B5%D0%BF%D0%BE%D1%81%D1%82%D1%8C)\n",
            "Во дворе бастиона в начале XVIII века сооружен Аннинский кавальер — вспомогательное сооружение построенное выше стен бастиона для дополнительной защиты Кронверка артиллерийским \u001b[0;34;47mогнём\u001b[0m.\n",
            "\n",
            "Источник: 1991 год (https://ru.wikipedia.org/wiki/1991%20%D0%B3%D0%BE%D0%B4)\n",
            "Война в Персидском заливе: Ирак принял соглашение о прекращении \u001b[0;34;47mогня\u001b[0m, предложенное СССР.\n",
            "\n",
            "Источник: 1963 год (https://ru.wikipedia.org/wiki/1963%20%D0%B3%D0%BE%D0%B4)\n",
            "Взрывом бомбы на Могиле неизвестного солдата в Брюсселе погашен Вечный \u001b[0;34;47mогонь\u001b[0m, зажжённый вскоре после Первой мировой войны в память о погибших.\n",
            "\n",
            "Источник: 1963 год (https://ru.wikipedia.org/wiki/1963%20%D0%B3%D0%BE%D0%B4)\n",
            "Кипрский конфликт: на Кипре англо-греко-турецкая комиссия достигла соглашения о прекращении \u001b[0;34;47mогня\u001b[0m и создании нейтральной зоны между сторонами конфликта.\n",
            "\n",
            "Источник: Санкт-Петербург (https://ru.wikipedia.org/wiki/%D0%A1%D0%B0%D0%BD%D0%BA%D1%82-%D0%9F%D0%B5%D1%82%D0%B5%D1%80%D0%B1%D1%83%D1%80%D0%B3)\n",
            "Она \u001b[0;34;47mогнём\u001b[0m орудий должна была перекрывать фарватеры двух крупнейших рукавов дельты реки: Невы и Большой Невки.\n",
            "\n",
            "Источник: Санкт-Петербург (https://ru.wikipedia.org/wiki/%D0%A1%D0%B0%D0%BD%D0%BA%D1%82-%D0%9F%D0%B5%D1%82%D0%B5%D1%80%D0%B1%D1%83%D1%80%D0%B3)\n",
            "В 1957 году возобновлена традиция полуденного выстрела пушки с Нарышкина бастиона Петропавловской крепости (прерванная в 1934 году), а на Марсовом поле зажжён первый в стране официальный Вечный \u001b[0;34;47mогонь\u001b[0m.\n",
            "\n",
            "Показать больше примеров? (y/n) n\n"
          ],
          "name": "stdout"
        }
      ]
    },
    {
      "cell_type": "markdown",
      "metadata": {
        "id": "vyUelqqxcJPb"
      },
      "source": [
        "3. <code>Corpus.form_search('word')</code>"
      ]
    },
    {
      "cell_type": "code",
      "metadata": {
        "id": "YkRIKE0-cJPc",
        "outputId": "2aa633ee-4361-4176-eb6c-004cf03aa65a",
        "colab": {
          "base_uri": "https://localhost:8080/",
          "height": 102
        }
      },
      "source": [
        "corpus.search('конь')"
      ],
      "execution_count": 41,
      "outputs": [
        {
          "output_type": "stream",
          "text": [
            "Поиск по запросу: конь\n",
            "\n",
            "\n",
            "РЕЗУЛЬТАТЫ (0/0):\n",
            "\n"
          ],
          "name": "stdout"
        }
      ]
    },
    {
      "cell_type": "markdown",
      "metadata": {
        "id": "yBFUXAR5cJPh"
      },
      "source": [
        "4. <code>Corpus.pos_search('POS')</code>"
      ]
    },
    {
      "cell_type": "code",
      "metadata": {
        "id": "Bzmr20tZcJPi",
        "outputId": "ec857e17-eb21-41cc-b490-d8246d6e9a0d",
        "colab": {
          "base_uri": "https://localhost:8080/",
          "height": 649
        }
      },
      "source": [
        "corpus.search('VERB')"
      ],
      "execution_count": 42,
      "outputs": [
        {
          "output_type": "stream",
          "text": [
            "Поиск по запросу: VERB\n",
            "\n",
            "\n",
            "РЕЗУЛЬТАТЫ (10/63487):\n",
            "\n",
            "Источник: Материальная точка (https://ru.wikipedia.org/wiki/%D0%9C%D0%B0%D1%82%D0%B5%D1%80%D0%B8%D0%B0%D0%BB%D1%8C%D0%BD%D0%B0%D1%8F%20%D1%82%D0%BE%D1%87%D0%BA%D0%B0)\n",
            "Материальная точка (частица)  — обладающее массой тело, размерами, формой, вращением и внутренней структурой которого \u001b[0;34;47mможно\u001b[0m пренебречь в условиях исследуемой задачи.\n",
            "\n",
            "Источник: Материальная точка (https://ru.wikipedia.org/wiki/%D0%9C%D0%B0%D1%82%D0%B5%D1%80%D0%B8%D0%B0%D0%BB%D1%8C%D0%BD%D0%B0%D1%8F%20%D1%82%D0%BE%D1%87%D0%BA%D0%B0)\n",
            "Материальная точка (частица)  — обладающее массой тело, размерами, формой, вращением и внутренней структурой которого можно \u001b[0;34;47mпренебречь\u001b[0m в условиях исследуемой задачи.\n",
            "\n",
            "Источник: Материальная точка (https://ru.wikipedia.org/wiki/%D0%9C%D0%B0%D1%82%D0%B5%D1%80%D0%B8%D0%B0%D0%BB%D1%8C%D0%BD%D0%B0%D1%8F%20%D1%82%D0%BE%D1%87%D0%BA%D0%B0)\n",
            "\u001b[0;34;47mЯвляется\u001b[0m простейшей физической моделью в механике.\n",
            "\n",
            "Источник: Материальная точка (https://ru.wikipedia.org/wiki/%D0%9C%D0%B0%D1%82%D0%B5%D1%80%D0%B8%D0%B0%D0%BB%D1%8C%D0%BD%D0%B0%D1%8F%20%D1%82%D0%BE%D1%87%D0%BA%D0%B0)\n",
            "Положение материальной точки в пространстве \u001b[0;34;47mопределяется\u001b[0m как положение геометрической точки и задаётся радиус-вектором .\n",
            "\n",
            "Источник: Материальная точка (https://ru.wikipedia.org/wiki/%D0%9C%D0%B0%D1%82%D0%B5%D1%80%D0%B8%D0%B0%D0%BB%D1%8C%D0%BD%D0%B0%D1%8F%20%D1%82%D0%BE%D1%87%D0%BA%D0%B0)\n",
            "Положение материальной точки в пространстве определяется как положение геометрической точки и \u001b[0;34;47mзадаётся\u001b[0m радиус-вектором .\n",
            "\n",
            "Источник: Материальная точка (https://ru.wikipedia.org/wiki/%D0%9C%D0%B0%D1%82%D0%B5%D1%80%D0%B8%D0%B0%D0%BB%D1%8C%D0%BD%D0%B0%D1%8F%20%D1%82%D0%BE%D1%87%D0%BA%D0%B0)\n",
            "В классической механике масса материальной точки \u001b[0;34;47mполагается\u001b[0m постоянной во времени и не зависящей от каких-либо особенностей её движения и взаимодействия с другими телами.\n",
            "\n",
            "Источник: Материальная точка (https://ru.wikipedia.org/wiki/%D0%9C%D0%B0%D1%82%D0%B5%D1%80%D0%B8%D0%B0%D0%BB%D1%8C%D0%BD%D0%B0%D1%8F%20%D1%82%D0%BE%D1%87%D0%BA%D0%B0)\n",
            "В классической механике масса материальной точки полагается постоянной во \u001b[0;34;47mвремени\u001b[0m и не зависящей от каких-либо особенностей её движения и взаимодействия с другими телами.\n",
            "\n",
            "Источник: Материальная точка (https://ru.wikipedia.org/wiki/%D0%9C%D0%B0%D1%82%D0%B5%D1%80%D0%B8%D0%B0%D0%BB%D1%8C%D0%BD%D0%B0%D1%8F%20%D1%82%D0%BE%D1%87%D0%BA%D0%B0)\n",
            "Масса \u001b[0;34;47mполагается\u001b[0m постоянной, не зависящей ни от положения точки в пространстве, ни от времени.\n",
            "\n",
            "Источник: Материальная точка (https://ru.wikipedia.org/wiki/%D0%9C%D0%B0%D1%82%D0%B5%D1%80%D0%B8%D0%B0%D0%BB%D1%8C%D0%BD%D0%B0%D1%8F%20%D1%82%D0%BE%D1%87%D0%BA%D0%B0)\n",
            "Масса полагается постоянной, не зависящей ни от положения точки в пространстве, ни от \u001b[0;34;47mвремени\u001b[0m.\n",
            "\n",
            "Источник: Материальная точка (https://ru.wikipedia.org/wiki/%D0%9C%D0%B0%D1%82%D0%B5%D1%80%D0%B8%D0%B0%D0%BB%D1%8C%D0%BD%D0%B0%D1%8F%20%D1%82%D0%BE%D1%87%D0%BA%D0%B0)\n",
            "Если тело \u001b[0;34;47mучаствует\u001b[0m только в прямолинейном движении, то для определения его положения достаточно одной координатной оси.\n",
            "\n",
            "Показать больше примеров? (y/n) n\n"
          ],
          "name": "stdout"
        }
      ]
    },
    {
      "cell_type": "markdown",
      "metadata": {
        "id": "BOFTUh0LcJPo"
      },
      "source": [
        "5. <code>Corpus.simple_search('POS word')</code>"
      ]
    },
    {
      "cell_type": "code",
      "metadata": {
        "id": "gM1dHWG6cJPp",
        "outputId": "181bf8ff-3ef7-476b-89b8-7f7171ca0257",
        "colab": {
          "base_uri": "https://localhost:8080/",
          "height": 649
        }
      },
      "source": [
        "corpus.search('\"король\"')"
      ],
      "execution_count": 43,
      "outputs": [
        {
          "output_type": "stream",
          "text": [
            "Поиск по запросу: \"король\"\n",
            "\n",
            "\n",
            "РЕЗУЛЬТАТЫ (10/62):\n",
            "\n",
            "Источник: Нидерланды (https://ru.wikipedia.org/wiki/%D0%9D%D0%B8%D0%B4%D0%B5%D1%80%D0%BB%D0%B0%D0%BD%D0%B4%D1%8B)\n",
            "Главнокомандующим всеми родами войск является \u001b[0;34;47mкороль\u001b[0m Нидерландов Виллем-Александр.\n",
            "\n",
            "Источник: Швеция (https://ru.wikipedia.org/wiki/%D0%A8%D0%B2%D0%B5%D1%86%D0%B8%D1%8F)\n",
            "Дату выбрали сразу по двум причинам: 6 июня 1523 года на престол взошёл первый шведский \u001b[0;34;47mкороль\u001b[0m Густав Васа и в этот же день в 1809 году страна приняла новую Конституцию, даровавшую подданным гражданские свободы и права.\n",
            "\n",
            "Источник: Швеция (https://ru.wikipedia.org/wiki/%D0%A8%D0%B2%D0%B5%D1%86%D0%B8%D1%8F)\n",
            "Союз распался через некоторое время и, после длительной войны между сторонниками независимости и датской Ольденбургской династии, к власти в Швеции пришёл \u001b[0;34;47mкороль\u001b[0m Густав Васа (Густав I).\n",
            "\n",
            "Источник: Швеция (https://ru.wikipedia.org/wiki/%D0%A8%D0%B2%D0%B5%D1%86%D0%B8%D1%8F)\n",
            "В 1974 году была принята новая конституция, \u001b[0;34;47mкороль\u001b[0m лишался всякой политической власти, он оставался лишь главой внешнеполитического комитета, на смену двухпалатному парламенту пришёл однопалатный риксдаг.\n",
            "\n",
            "Источник: Швеция (https://ru.wikipedia.org/wiki/%D0%A8%D0%B2%D0%B5%D1%86%D0%B8%D1%8F)\n",
            "Глава государства — \u001b[0;34;47mкороль\u001b[0m (с сентября 1973 года это \u001b[0;34;47mкороль\u001b[0m Карл XVI Густав).\n",
            "\n",
            "Источник: Швеция (https://ru.wikipedia.org/wiki/%D0%A8%D0%B2%D0%B5%D1%86%D0%B8%D1%8F)\n",
            "В этот день в 1523 году на престол вступил \u001b[0;34;47mкороль\u001b[0m Густав Васа, а в 1809 году была принята новая конституция.\n",
            "\n",
            "Источник: 1171 год (https://ru.wikipedia.org/wiki/1171%20%D0%B3%D0%BE%D0%B4)\n",
            "Будущий \u001b[0;34;47mкороль\u001b[0m Англии закладывает в Лиможе первые камни в основание монастыря Св. Августина, а затем едет в примирительную поездку по Аквитании, во время корой Алиенора и Ричард аннулируют конфискации и санкции, установленные незадолго до этого Генрихом II.\n",
            "\n",
            "Источник: Бразилия (https://ru.wikipedia.org/wiki/%D0%91%D1%80%D0%B0%D0%B7%D0%B8%D0%BB%D0%B8%D1%8F)\n",
            "В 1806 году португальский \u001b[0;34;47mкороль\u001b[0m Жуан VI бежал в Бразилию от Наполеона.\n",
            "\n",
            "Источник: Бразилия (https://ru.wikipedia.org/wiki/%D0%91%D1%80%D0%B0%D0%B7%D0%B8%D0%BB%D0%B8%D1%8F)\n",
            "В 1808 году Наполеон I начал захватническую войну против Португалии, вследствие чего португальский \u001b[0;34;47mкороль\u001b[0m Дон Жуан VI со двором переехал в Рио-де-Жанейро.\n",
            "\n",
            "Источник: Бразилия (https://ru.wikipedia.org/wiki/%D0%91%D1%80%D0%B0%D0%B7%D0%B8%D0%BB%D0%B8%D1%8F)\n",
            "В 1821 году \u001b[0;34;47mкороль\u001b[0m Дон Жуан VI вернулся в Лиссабон, оставив в Рио-де-Жанейро своего наследника, наделив его титулом вице-короля, который 7 сентября 1822 года и провозгласил независимость Бразилии как империи, торжественно короновавшись 1 декабря 1822 под именем императора Педру I. Так Бразилия стала империей во главе с Доном Педру I, который при этом продолжал оставаться наследником португальского престола.\n",
            "\n",
            "Показать больше примеров? (y/n) n\n"
          ],
          "name": "stdout"
        }
      ]
    },
    {
      "cell_type": "code",
      "metadata": {
        "id": "PdhyFOnAcJP8"
      },
      "source": [
        ""
      ],
      "execution_count": null,
      "outputs": []
    }
  ]
}